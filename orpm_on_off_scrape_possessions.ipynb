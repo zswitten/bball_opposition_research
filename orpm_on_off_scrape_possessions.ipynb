{
 "cells": [
  {
   "cell_type": "code",
   "execution_count": 1,
   "id": "ebbbecf7",
   "metadata": {},
   "outputs": [],
   "source": [
    "import json\n",
    "\n",
    "import pandas as pd\n",
    "import requests\n",
    "import matplotlib.pyplot as plt\n",
    "%matplotlib inline"
   ]
  },
  {
   "cell_type": "markdown",
   "id": "b5c4d32a",
   "metadata": {},
   "source": [
    "# Get advanced (ORPM/DRPM) stats from ESPN"
   ]
  },
  {
   "cell_type": "code",
   "execution_count": 2,
   "id": "afa9fb44",
   "metadata": {},
   "outputs": [],
   "source": [
    "url_base = 'http://www.espn.com/nba/statistics/rpm/_/'\n",
    "urls = [url_base]\n",
    "for i in range(1, 12):\n",
    "    urls.append(url_base + 'page/' + str(i))"
   ]
  },
  {
   "cell_type": "code",
   "execution_count": null,
   "id": "b3b4c9d9",
   "metadata": {},
   "outputs": [],
   "source": [
    "years = ['2023', '2022', '2021', '2020']\n",
    "espn_dfs = {}\n",
    "for year in years:\n",
    "    url_base = 'http://www.espn.com/nba/statistics/rpm/_/year/' + str(year) + '/'\n",
    "    urls = [\n",
    "        url_base + 'page/' + str(i)\n",
    "        for i in range(1, 12)\n",
    "    ]\n",
    "    dfs = []\n",
    "    for url in urls:\n",
    "        # print(url)\n",
    "        df = pd.read_html(url)[0]\n",
    "        df.columns = df.iloc[0].apply(lambda x: x.lower())\n",
    "        df = df.iloc[1:]\n",
    "        df = df[df.columns[1:]]\n",
    "        df['position'] = df.name.apply(lambda x: x.split(',')[1][1:])\n",
    "        df.name = df.name.apply(lambda x: x.split(',')[0])\n",
    "        dfs.append(df)\n",
    "    espn_df = pd.concat(dfs)\n",
    "    espn_dfs[year] = espn_df"
   ]
  },
  {
   "cell_type": "code",
   "execution_count": 318,
   "id": "f96f537d",
   "metadata": {},
   "outputs": [
    {
     "data": {
      "text/plain": [
       "440"
      ]
     },
     "execution_count": 318,
     "metadata": {},
     "output_type": "execute_result"
    }
   ],
   "source": [
    "# Number of players in 2023\n",
    "espn_dfs['2023'].name.nunique()"
   ]
  },
  {
   "cell_type": "markdown",
   "id": "bc2fc116",
   "metadata": {},
   "source": [
    "# Get stats for minutes played by each player against all other players"
   ]
  },
  {
   "cell_type": "code",
   "execution_count": 6,
   "id": "3f939091",
   "metadata": {},
   "outputs": [],
   "source": [
    "teams_response = requests.get(\"https://api.pbpstats.com/get-teams/nba\")\n",
    "teams = teams_response.json()\n",
    "team_names = [team['text'] for team in teams['teams']]"
   ]
  },
  {
   "cell_type": "code",
   "execution_count": null,
   "id": "2eff9945",
   "metadata": {},
   "outputs": [],
   "source": [
    "players_url = \"https://api.pbpstats.com/get-team-players-for-season\"\n",
    "players_teams = []\n",
    "year = \"2023\"\n",
    "def translate_year(year):\n",
    "    return str(int(year)-1) + '-' + str(int(year) % 100)\n",
    "\n",
    "for year in ['2021', '2022', '2023']:\n",
    "    for team in [team['id'] for team in teams['teams']]:\n",
    "        players_params = {\n",
    "            \"Season\": translate_year(year),\n",
    "            \"SeasonType\": \"Regular Season\",\n",
    "            \"TeamId\": team\n",
    "        }\n",
    "        players_response = requests.get(players_url, params=players_params)\n",
    "        players = players_response.json()['players']\n",
    "        players_teams += [\n",
    "            {'player': player, 'name': players[player], 'team': team, \"year\": year} \n",
    "            for player in players]"
   ]
  },
  {
   "cell_type": "code",
   "execution_count": 64,
   "id": "2d3bce88",
   "metadata": {},
   "outputs": [
    {
     "data": {
      "text/html": [
       "<div>\n",
       "<style scoped>\n",
       "    .dataframe tbody tr th:only-of-type {\n",
       "        vertical-align: middle;\n",
       "    }\n",
       "\n",
       "    .dataframe tbody tr th {\n",
       "        vertical-align: top;\n",
       "    }\n",
       "\n",
       "    .dataframe thead th {\n",
       "        text-align: right;\n",
       "    }\n",
       "</style>\n",
       "<table border=\"1\" class=\"dataframe\">\n",
       "  <thead>\n",
       "    <tr style=\"text-align: right;\">\n",
       "      <th></th>\n",
       "      <th>player</th>\n",
       "      <th>name</th>\n",
       "      <th>team</th>\n",
       "      <th>year</th>\n",
       "    </tr>\n",
       "  </thead>\n",
       "  <tbody>\n",
       "    <tr>\n",
       "      <th>1896</th>\n",
       "      <td>1630264</td>\n",
       "      <td>Anthony Gill</td>\n",
       "      <td>1610612764</td>\n",
       "      <td>2023</td>\n",
       "    </tr>\n",
       "    <tr>\n",
       "      <th>1897</th>\n",
       "      <td>1630557</td>\n",
       "      <td>Corey Kispert</td>\n",
       "      <td>1610612764</td>\n",
       "      <td>2023</td>\n",
       "    </tr>\n",
       "    <tr>\n",
       "      <th>1898</th>\n",
       "      <td>1630648</td>\n",
       "      <td>Jordan Schakel</td>\n",
       "      <td>1610612764</td>\n",
       "      <td>2023</td>\n",
       "    </tr>\n",
       "    <tr>\n",
       "      <th>1899</th>\n",
       "      <td>1630692</td>\n",
       "      <td>Jordan Goodwin</td>\n",
       "      <td>1610612764</td>\n",
       "      <td>2023</td>\n",
       "    </tr>\n",
       "    <tr>\n",
       "      <th>1900</th>\n",
       "      <td>1631098</td>\n",
       "      <td>Johnny Davis</td>\n",
       "      <td>1610612764</td>\n",
       "      <td>2023</td>\n",
       "    </tr>\n",
       "  </tbody>\n",
       "</table>\n",
       "</div>"
      ],
      "text/plain": [
       "       player            name        team  year\n",
       "1896  1630264    Anthony Gill  1610612764  2023\n",
       "1897  1630557   Corey Kispert  1610612764  2023\n",
       "1898  1630648  Jordan Schakel  1610612764  2023\n",
       "1899  1630692  Jordan Goodwin  1610612764  2023\n",
       "1900  1631098    Johnny Davis  1610612764  2023"
      ]
     },
     "execution_count": 64,
     "metadata": {},
     "output_type": "execute_result"
    }
   ],
   "source": [
    "players_teams_df = pd.DataFrame(players_teams)\n",
    "players_teams_df.tail()"
   ]
  },
  {
   "cell_type": "code",
   "execution_count": 7,
   "id": "48da4c7d",
   "metadata": {},
   "outputs": [],
   "source": [
    "def get_team_name(team_name):\n",
    "    if team_name == 'BKN':\n",
    "        return 'BRK'\n",
    "    elif team_name == 'CHA':\n",
    "        return 'CHO'\n",
    "    elif team_name == 'PHX':\n",
    "        return 'PHO'\n",
    "    else:\n",
    "        return team_name"
   ]
  },
  {
   "cell_type": "code",
   "execution_count": 302,
   "id": "0f105364",
   "metadata": {},
   "outputs": [],
   "source": [
    "def get_team(player, year, by_name=False):\n",
    "    if not by_name:\n",
    "        return players_teams_df[\n",
    "            (players_teams_df.player == player) & (players_teams_df.year == year)\n",
    "        ].iloc[0]['team']\n",
    "    else:\n",
    "        return players_teams_df[\n",
    "            (players_teams_df.name == player) & (players_teams_df.year == year)\n",
    "        ].iloc[0]['team']\n",
    "\n",
    "def get_team_by_id(team_id):\n",
    "    matching_teams = [t for t in teams['teams'] if t['id'] == team_id]\n",
    "    if len(matching_teams) > 0:\n",
    "        return matching_teams[0]['text']\n",
    "    else:\n",
    "        return None\n",
    "\n",
    "def get_opp_player_minutes(player, vs_team, season, offdef='Offense'):\n",
    "    # Season like \"2022-23\"\n",
    "    url = \"https://api.pbpstats.com/get-possessions/nba\"\n",
    "    player_team = get_team(player, season)\n",
    "    params = {\n",
    "        \"TeamId\": vs_team,\n",
    "        \"Season\": translate_year(season),\n",
    "        \"SeasonType\": \"Regular Season\",\n",
    "        \"OffDef\": offdef, # Offense or Defense\n",
    "        \"StartType\": \"All\", # see below for possible values for StartType\n",
    "        \"Opponent\": player_team,\n",
    "        \"OpponentExactly1OnFloor\": player\n",
    "    }\n",
    "    response = requests.get(url, params=params)\n",
    "    response_json = response.json()\n",
    "    return pd.DataFrame(response_json[\"player_results\"])\n",
    "    # team_stats = response_json[\"team_results\"]\n",
    "    # possessions = pd.DataFrame(response_json[\"possessions\"])"
   ]
  },
  {
   "cell_type": "code",
   "execution_count": 272,
   "id": "e8751ec6",
   "metadata": {},
   "outputs": [],
   "source": [
    "def name_search_player(name):\n",
    "    return players_teams_df[players_teams_df.name.str.contains(name)].iloc[0]['player']\n",
    "\n",
    "def name_search_team(team):\n",
    "    return [t for t in teams['teams'] if t['text'] == team][0]['id']\n",
    "\n",
    "def opp_drpm(minutes_df):\n",
    "    total = (minutes_df.SecondsPlayed.fillna(0).values * minutes_df.drpm.astype('float').values).sum()\n",
    "    return {'weighted_drpm': total, 'seconds': minutes_df.SecondsPlayed.fillna(0).values.sum()}\n",
    "\n",
    "def opp_orpm(minutes_df):\n",
    "    total = (minutes_df.SecondsPlayed.fillna(0).values * minutes_df.orpm.astype('float').values).sum()\n",
    "    return {'weighted_orpm': total, 'seconds': minutes_df.SecondsPlayed.fillna(0).values.sum()}"
   ]
  },
  {
   "cell_type": "code",
   "execution_count": null,
   "id": "598d3583",
   "metadata": {},
   "outputs": [],
   "source": [
    "# Iterate through all players and all teams\n",
    "team_ids = players_teams_df.team.unique()\n",
    "year = '2023'\n",
    "if 'player_opp_drpms' not in globals():\n",
    "    player_opp_drpms = []\n",
    "for player in players_teams_df[players_teams_df.year == year].name:\n",
    "    existing = [p for p in player_opp_drpms if p['player'] == player]\n",
    "    if len(existing) > 0 and existing[0]['']\n",
    "        continue\n",
    "    player_id = name_search_player(player)\n",
    "    player_minutes_dfs = []\n",
    "    drpms = []\n",
    "    for team in team_ids:\n",
    "        if team == get_team(player_id, '2023'):\n",
    "            continue\n",
    "        try:\n",
    "            df = get_opp_player_minutes(player_id, team, year)\n",
    "        except:\n",
    "            import time\n",
    "            time.sleep(0.2)\n",
    "            df = get_opp_player_minutes(player_id, team, year)\n",
    "        if len(df) == 0:\n",
    "            continue\n",
    "        player_minutes_dfs.append(df)\n",
    "        minutes_df_merged = df.merge(espn_dfs['2023'], left_on='Name', right_on='name')\n",
    "        drpms.append(opp_drpm(minutes_df_merged))\n",
    "    player_opp_drpms.append({\n",
    "        'player': player,\n",
    "        'player_id': player_id,\n",
    "        'player_minutes_dfs': player_minutes_dfs,\n",
    "        'avg_opp_drpm': sum([d['weighted_drpm'] for d in drpms]) / sum(\n",
    "            [d['seconds'] for d in drpms]) if len(drpms) > 0 else None\n",
    "    })\n",
    "    print(player_opp_drpms[-1]['player'], player_opp_drpms[-1]['avg_opp_drpm'])"
   ]
  },
  {
   "cell_type": "code",
   "execution_count": null,
   "id": "8eef1a5d",
   "metadata": {},
   "outputs": [],
   "source": [
    "for player in player_opp_drpms:\n",
    "    if len(player['player_minutes_dfs']) > 0 and len(player['player_minutes_dfs']) < 55:\n",
    "        player['player_minutes_dfs'] = pd.concat(\n",
    "            player['player_minutes_dfs']\n",
    "        ).merge(\n",
    "            espn_dfs['2023'], left_on='Name', right_on='name')"
   ]
  },
  {
   "cell_type": "code",
   "execution_count": 273,
   "id": "ff40ef17",
   "metadata": {},
   "outputs": [],
   "source": [
    "for player in player_opp_drpms:\n",
    "    if len(player['player_minutes_dfs']) > 0:\n",
    "        avg_opp_orpm = opp_orpm(player['player_minutes_dfs'])\n",
    "        player['avg_opp_orpm'] = avg_opp_orpm['weighted_orpm'] / avg_opp_orpm['seconds']\n",
    "        avg_opp_drpm = opp_drpm(player['player_minutes_dfs'])\n",
    "        player['avg_opp_drpm'] = avg_opp_drpm['weighted_drpm'] / avg_opp_drpm['seconds']\n",
    "    else:\n",
    "        player['avg_opp_orpm'] = None\n"
   ]
  },
  {
   "cell_type": "code",
   "execution_count": 335,
   "id": "0878a595",
   "metadata": {},
   "outputs": [],
   "source": [
    "player_opp_drpms = [player for player in player_opp_drpms if len(player['player_minutes_dfs']) > 0]"
   ]
  },
  {
   "cell_type": "code",
   "execution_count": 421,
   "id": "af6e6a0f",
   "metadata": {},
   "outputs": [
    {
     "data": {
      "text/html": [
       "<div>\n",
       "<style scoped>\n",
       "    .dataframe tbody tr th:only-of-type {\n",
       "        vertical-align: middle;\n",
       "    }\n",
       "\n",
       "    .dataframe tbody tr th {\n",
       "        vertical-align: top;\n",
       "    }\n",
       "\n",
       "    .dataframe thead th {\n",
       "        text-align: right;\n",
       "    }\n",
       "</style>\n",
       "<table border=\"1\" class=\"dataframe\">\n",
       "  <thead>\n",
       "    <tr style=\"text-align: right;\">\n",
       "      <th></th>\n",
       "      <th>name</th>\n",
       "      <th>position</th>\n",
       "    </tr>\n",
       "  </thead>\n",
       "  <tbody>\n",
       "    <tr>\n",
       "      <th>141</th>\n",
       "      <td>Tobias Harris</td>\n",
       "      <td>PF</td>\n",
       "    </tr>\n",
       "    <tr>\n",
       "      <th>147</th>\n",
       "      <td>P.J. Tucker</td>\n",
       "      <td>PF</td>\n",
       "    </tr>\n",
       "    <tr>\n",
       "      <th>148</th>\n",
       "      <td>James Harden</td>\n",
       "      <td>SG</td>\n",
       "    </tr>\n",
       "    <tr>\n",
       "      <th>158</th>\n",
       "      <td>Damion Lee</td>\n",
       "      <td>SG</td>\n",
       "    </tr>\n",
       "    <tr>\n",
       "      <th>59</th>\n",
       "      <td>Jonathan Kuminga</td>\n",
       "      <td>PF</td>\n",
       "    </tr>\n",
       "    <tr>\n",
       "      <th>178</th>\n",
       "      <td>Tre Jones</td>\n",
       "      <td>PG</td>\n",
       "    </tr>\n",
       "    <tr>\n",
       "      <th>204</th>\n",
       "      <td>Walker Kessler</td>\n",
       "      <td>C</td>\n",
       "    </tr>\n",
       "    <tr>\n",
       "      <th>175</th>\n",
       "      <td>Keldon Johnson</td>\n",
       "      <td>SF</td>\n",
       "    </tr>\n",
       "    <tr>\n",
       "      <th>58</th>\n",
       "      <td>Jordan Poole</td>\n",
       "      <td>SG</td>\n",
       "    </tr>\n",
       "    <tr>\n",
       "      <th>177</th>\n",
       "      <td>Devin Vassell</td>\n",
       "      <td>SG</td>\n",
       "    </tr>\n",
       "    <tr>\n",
       "      <th>208</th>\n",
       "      <td>Jarred Vanderbilt</td>\n",
       "      <td>PF</td>\n",
       "    </tr>\n",
       "    <tr>\n",
       "      <th>201</th>\n",
       "      <td>Kelly Olynyk</td>\n",
       "      <td>PF</td>\n",
       "    </tr>\n",
       "    <tr>\n",
       "      <th>154</th>\n",
       "      <td>Devin Booker</td>\n",
       "      <td>SG</td>\n",
       "    </tr>\n",
       "    <tr>\n",
       "      <th>164</th>\n",
       "      <td>Deandre Ayton</td>\n",
       "      <td>C</td>\n",
       "    </tr>\n",
       "    <tr>\n",
       "      <th>202</th>\n",
       "      <td>Jordan Clarkson</td>\n",
       "      <td>PG</td>\n",
       "    </tr>\n",
       "    <tr>\n",
       "      <th>203</th>\n",
       "      <td>Lauri Markkanen</td>\n",
       "      <td>PF</td>\n",
       "    </tr>\n",
       "    <tr>\n",
       "      <th>200</th>\n",
       "      <td>Mike Conley</td>\n",
       "      <td>PG</td>\n",
       "    </tr>\n",
       "    <tr>\n",
       "      <th>155</th>\n",
       "      <td>Torrey Craig</td>\n",
       "      <td>SF</td>\n",
       "    </tr>\n",
       "    <tr>\n",
       "      <th>153</th>\n",
       "      <td>Chris Paul</td>\n",
       "      <td>PG</td>\n",
       "    </tr>\n",
       "    <tr>\n",
       "      <th>156</th>\n",
       "      <td>Mikal Bridges</td>\n",
       "      <td>SF</td>\n",
       "    </tr>\n",
       "  </tbody>\n",
       "</table>\n",
       "</div>"
      ],
      "text/plain": [
       "                  name position\n",
       "141      Tobias Harris       PF\n",
       "147        P.J. Tucker       PF\n",
       "148       James Harden       SG\n",
       "158         Damion Lee       SG\n",
       "59    Jonathan Kuminga       PF\n",
       "178          Tre Jones       PG\n",
       "204     Walker Kessler        C\n",
       "175     Keldon Johnson       SF\n",
       "58        Jordan Poole       SG\n",
       "177      Devin Vassell       SG\n",
       "208  Jarred Vanderbilt       PF\n",
       "201       Kelly Olynyk       PF\n",
       "154       Devin Booker       SG\n",
       "164      Deandre Ayton        C\n",
       "202    Jordan Clarkson       PG\n",
       "203    Lauri Markkanen       PF\n",
       "200        Mike Conley       PG\n",
       "155       Torrey Craig       SF\n",
       "153         Chris Paul       PG\n",
       "156      Mikal Bridges       SF"
      ]
     },
     "execution_count": 421,
     "metadata": {},
     "output_type": "execute_result"
    }
   ],
   "source": [
    "[player['player_minutes_dfs'] for player in player_opp_drpms if 'Zion' in player['player']][0].sort_values(\n",
    "    'SecondsPlayed').iloc[-20:][['name', 'position']]"
   ]
  },
  {
   "cell_type": "code",
   "execution_count": 345,
   "id": "582b1623",
   "metadata": {},
   "outputs": [
    {
     "data": {
      "text/plain": [
       "dict_keys(['player', 'player_id', 'player_minutes_dfs', 'avg_opp_drpm', 'avg_opp_orpm'])"
      ]
     },
     "execution_count": 345,
     "metadata": {},
     "output_type": "execute_result"
    }
   ],
   "source": [
    "player_opp_drpms[0].keys()"
   ]
  },
  {
   "cell_type": "code",
   "execution_count": 403,
   "id": "4ba20773",
   "metadata": {},
   "outputs": [],
   "source": [
    "orpm_drpm_df = pd.DataFrame({\n",
    "    'player': [player['player'] for player in player_opp_drpms],\n",
    "    'avg_opp_orpm': [player['avg_opp_orpm'] for player in player_opp_drpms],\n",
    "    'avg_opp_drpm': [player['avg_opp_drpm'] for player in player_opp_drpms],\n",
    "    'team': [get_team_by_id(get_team(player['player'], '2023', by_name=True)) for player in player_opp_drpms],\n",
    "}).dropna(subset=['avg_opp_orpm']).merge(espn_dfs['2023'][[\n",
    "    'name', 'orpm', 'drpm', 'position', 'gp', 'mpg']], left_on='player', right_on='name')\n",
    "for c in 'orpm', 'drpm', 'gp', 'mpg':\n",
    "    orpm_drpm_df[c] = orpm_drpm_df[c].astype('float')\n",
    "orpm_drpm_df['minutes'] = orpm_drpm_df['gp'] * orpm_drpm_df['mpg']\n",
    "orpm_drpm_df = orpm_drpm_df[orpm_drpm_df.minutes > 300]"
   ]
  },
  {
   "cell_type": "markdown",
   "id": "eda9371f",
   "metadata": {},
   "source": [
    "# Analysis"
   ]
  },
  {
   "cell_type": "code",
   "execution_count": 348,
   "id": "bda2ca1c",
   "metadata": {},
   "outputs": [
    {
     "data": {
      "text/html": [
       "<div>\n",
       "<style scoped>\n",
       "    .dataframe tbody tr th:only-of-type {\n",
       "        vertical-align: middle;\n",
       "    }\n",
       "\n",
       "    .dataframe tbody tr th {\n",
       "        vertical-align: top;\n",
       "    }\n",
       "\n",
       "    .dataframe thead th {\n",
       "        text-align: right;\n",
       "    }\n",
       "</style>\n",
       "<table border=\"1\" class=\"dataframe\">\n",
       "  <thead>\n",
       "    <tr style=\"text-align: right;\">\n",
       "      <th></th>\n",
       "      <th>player</th>\n",
       "      <th>avg_opp_orpm</th>\n",
       "      <th>avg_opp_drpm</th>\n",
       "      <th>team</th>\n",
       "      <th>name</th>\n",
       "      <th>orpm</th>\n",
       "      <th>drpm</th>\n",
       "      <th>position</th>\n",
       "      <th>gp</th>\n",
       "      <th>mpg</th>\n",
       "    </tr>\n",
       "  </thead>\n",
       "  <tbody>\n",
       "    <tr>\n",
       "      <th>0</th>\n",
       "      <td>Justin Holiday</td>\n",
       "      <td>-0.067708</td>\n",
       "      <td>-0.534254</td>\n",
       "      <td>ATL</td>\n",
       "      <td>Justin Holiday</td>\n",
       "      <td>-1.58</td>\n",
       "      <td>-3.44</td>\n",
       "      <td>SF</td>\n",
       "      <td>27</td>\n",
       "      <td>15.0</td>\n",
       "    </tr>\n",
       "    <tr>\n",
       "      <th>1</th>\n",
       "      <td>Clint Capela</td>\n",
       "      <td>-0.021441</td>\n",
       "      <td>0.845204</td>\n",
       "      <td>ATL</td>\n",
       "      <td>Clint Capela</td>\n",
       "      <td>-1.27</td>\n",
       "      <td>3.84</td>\n",
       "      <td>C</td>\n",
       "      <td>34</td>\n",
       "      <td>27.1</td>\n",
       "    </tr>\n",
       "    <tr>\n",
       "      <th>2</th>\n",
       "      <td>Bogdan Bogdanovic</td>\n",
       "      <td>0.163781</td>\n",
       "      <td>-0.095768</td>\n",
       "      <td>ATL</td>\n",
       "      <td>Bogdan Bogdanovic</td>\n",
       "      <td>1.09</td>\n",
       "      <td>-2.27</td>\n",
       "      <td>SG</td>\n",
       "      <td>25</td>\n",
       "      <td>30.7</td>\n",
       "    </tr>\n",
       "    <tr>\n",
       "      <th>3</th>\n",
       "      <td>Frank Kaminsky</td>\n",
       "      <td>-0.171438</td>\n",
       "      <td>-0.715241</td>\n",
       "      <td>ATL</td>\n",
       "      <td>Frank Kaminsky</td>\n",
       "      <td>0.93</td>\n",
       "      <td>-2.34</td>\n",
       "      <td>PF</td>\n",
       "      <td>24</td>\n",
       "      <td>7.0</td>\n",
       "    </tr>\n",
       "    <tr>\n",
       "      <th>4</th>\n",
       "      <td>Dejounte Murray</td>\n",
       "      <td>-0.009885</td>\n",
       "      <td>0.620845</td>\n",
       "      <td>ATL</td>\n",
       "      <td>Dejounte Murray</td>\n",
       "      <td>-0.29</td>\n",
       "      <td>3.40</td>\n",
       "      <td>SG</td>\n",
       "      <td>45</td>\n",
       "      <td>36.6</td>\n",
       "    </tr>\n",
       "  </tbody>\n",
       "</table>\n",
       "</div>"
      ],
      "text/plain": [
       "              player  avg_opp_orpm  avg_opp_drpm team               name  \\\n",
       "0     Justin Holiday     -0.067708     -0.534254  ATL     Justin Holiday   \n",
       "1       Clint Capela     -0.021441      0.845204  ATL       Clint Capela   \n",
       "2  Bogdan Bogdanovic      0.163781     -0.095768  ATL  Bogdan Bogdanovic   \n",
       "3     Frank Kaminsky     -0.171438     -0.715241  ATL     Frank Kaminsky   \n",
       "4    Dejounte Murray     -0.009885      0.620845  ATL    Dejounte Murray   \n",
       "\n",
       "    orpm   drpm position  gp   mpg  \n",
       "0  -1.58  -3.44       SF  27  15.0  \n",
       "1  -1.27   3.84        C  34  27.1  \n",
       "2   1.09  -2.27       SG  25  30.7  \n",
       "3   0.93  -2.34       PF  24   7.0  \n",
       "4  -0.29   3.40       SG  45  36.6  "
      ]
     },
     "execution_count": 348,
     "metadata": {},
     "output_type": "execute_result"
    }
   ],
   "source": [
    "orpm_drpm_df.head()"
   ]
  },
  {
   "cell_type": "code",
   "execution_count": 358,
   "id": "243b73ce",
   "metadata": {},
   "outputs": [
    {
     "data": {
      "text/html": [
       "<div>\n",
       "<style scoped>\n",
       "    .dataframe tbody tr th:only-of-type {\n",
       "        vertical-align: middle;\n",
       "    }\n",
       "\n",
       "    .dataframe tbody tr th {\n",
       "        vertical-align: top;\n",
       "    }\n",
       "\n",
       "    .dataframe thead th {\n",
       "        text-align: right;\n",
       "    }\n",
       "</style>\n",
       "<table border=\"1\" class=\"dataframe\">\n",
       "  <thead>\n",
       "    <tr style=\"text-align: right;\">\n",
       "      <th></th>\n",
       "      <th>player</th>\n",
       "      <th>avg_opp_orpm</th>\n",
       "      <th>avg_opp_drpm</th>\n",
       "      <th>team</th>\n",
       "      <th>name</th>\n",
       "      <th>orpm</th>\n",
       "      <th>drpm</th>\n",
       "      <th>position</th>\n",
       "      <th>gp</th>\n",
       "      <th>mpg</th>\n",
       "      <th>minutes</th>\n",
       "    </tr>\n",
       "  </thead>\n",
       "  <tbody>\n",
       "    <tr>\n",
       "      <th>172</th>\n",
       "      <td>Marcus Morris Sr.</td>\n",
       "      <td>0.191363</td>\n",
       "      <td>0.846881</td>\n",
       "      <td>LAC</td>\n",
       "      <td>Marcus Morris Sr.</td>\n",
       "      <td>-1.94</td>\n",
       "      <td>4.56</td>\n",
       "      <td>SF</td>\n",
       "      <td>46.0</td>\n",
       "      <td>28.9</td>\n",
       "      <td>1329.4</td>\n",
       "    </tr>\n",
       "    <tr>\n",
       "      <th>404</th>\n",
       "      <td>O.G. Anunoby</td>\n",
       "      <td>0.053317</td>\n",
       "      <td>0.853820</td>\n",
       "      <td>TOR</td>\n",
       "      <td>O.G. Anunoby</td>\n",
       "      <td>-1.96</td>\n",
       "      <td>3.95</td>\n",
       "      <td>SF</td>\n",
       "      <td>45.0</td>\n",
       "      <td>35.8</td>\n",
       "      <td>1611.0</td>\n",
       "    </tr>\n",
       "    <tr>\n",
       "      <th>57</th>\n",
       "      <td>Nikola Vucevic</td>\n",
       "      <td>0.136335</td>\n",
       "      <td>0.870881</td>\n",
       "      <td>CHI</td>\n",
       "      <td>Nikola Vucevic</td>\n",
       "      <td>0.26</td>\n",
       "      <td>3.10</td>\n",
       "      <td>C</td>\n",
       "      <td>49.0</td>\n",
       "      <td>33.9</td>\n",
       "      <td>1661.1</td>\n",
       "    </tr>\n",
       "    <tr>\n",
       "      <th>353</th>\n",
       "      <td>Jusuf Nurkic</td>\n",
       "      <td>0.121002</td>\n",
       "      <td>0.890980</td>\n",
       "      <td>POR</td>\n",
       "      <td>Jusuf Nurkic</td>\n",
       "      <td>-1.21</td>\n",
       "      <td>5.32</td>\n",
       "      <td>C</td>\n",
       "      <td>43.0</td>\n",
       "      <td>27.9</td>\n",
       "      <td>1199.7</td>\n",
       "    </tr>\n",
       "    <tr>\n",
       "      <th>31</th>\n",
       "      <td>Marcus Smart</td>\n",
       "      <td>0.065907</td>\n",
       "      <td>0.900937</td>\n",
       "      <td>BOS</td>\n",
       "      <td>Marcus Smart</td>\n",
       "      <td>0.11</td>\n",
       "      <td>1.26</td>\n",
       "      <td>PG</td>\n",
       "      <td>41.0</td>\n",
       "      <td>32.5</td>\n",
       "      <td>1332.5</td>\n",
       "    </tr>\n",
       "    <tr>\n",
       "      <th>319</th>\n",
       "      <td>P.J. Tucker</td>\n",
       "      <td>0.183040</td>\n",
       "      <td>0.912638</td>\n",
       "      <td>PHI</td>\n",
       "      <td>P.J. Tucker</td>\n",
       "      <td>-7.50</td>\n",
       "      <td>3.67</td>\n",
       "      <td>PF</td>\n",
       "      <td>46.0</td>\n",
       "      <td>26.4</td>\n",
       "      <td>1214.4</td>\n",
       "    </tr>\n",
       "    <tr>\n",
       "      <th>160</th>\n",
       "      <td>Tyrese Haliburton</td>\n",
       "      <td>0.034268</td>\n",
       "      <td>0.957469</td>\n",
       "      <td>IND</td>\n",
       "      <td>Tyrese Haliburton</td>\n",
       "      <td>4.46</td>\n",
       "      <td>1.17</td>\n",
       "      <td>PG</td>\n",
       "      <td>40.0</td>\n",
       "      <td>33.4</td>\n",
       "      <td>1336.0</td>\n",
       "    </tr>\n",
       "    <tr>\n",
       "      <th>155</th>\n",
       "      <td>Myles Turner</td>\n",
       "      <td>0.052436</td>\n",
       "      <td>0.959811</td>\n",
       "      <td>IND</td>\n",
       "      <td>Myles Turner</td>\n",
       "      <td>0.49</td>\n",
       "      <td>4.55</td>\n",
       "      <td>C</td>\n",
       "      <td>42.0</td>\n",
       "      <td>30.0</td>\n",
       "      <td>1260.0</td>\n",
       "    </tr>\n",
       "    <tr>\n",
       "      <th>29</th>\n",
       "      <td>Al Horford</td>\n",
       "      <td>0.082431</td>\n",
       "      <td>0.967930</td>\n",
       "      <td>BOS</td>\n",
       "      <td>Al Horford</td>\n",
       "      <td>-1.93</td>\n",
       "      <td>4.13</td>\n",
       "      <td>C</td>\n",
       "      <td>40.0</td>\n",
       "      <td>30.9</td>\n",
       "      <td>1236.0</td>\n",
       "    </tr>\n",
       "    <tr>\n",
       "      <th>42</th>\n",
       "      <td>Mason Plumlee</td>\n",
       "      <td>0.056304</td>\n",
       "      <td>1.126215</td>\n",
       "      <td>CHA</td>\n",
       "      <td>Mason Plumlee</td>\n",
       "      <td>0.16</td>\n",
       "      <td>2.72</td>\n",
       "      <td>C</td>\n",
       "      <td>50.0</td>\n",
       "      <td>28.2</td>\n",
       "      <td>1410.0</td>\n",
       "    </tr>\n",
       "  </tbody>\n",
       "</table>\n",
       "</div>"
      ],
      "text/plain": [
       "                player  avg_opp_orpm  avg_opp_drpm team               name  \\\n",
       "172  Marcus Morris Sr.      0.191363      0.846881  LAC  Marcus Morris Sr.   \n",
       "404       O.G. Anunoby      0.053317      0.853820  TOR       O.G. Anunoby   \n",
       "57      Nikola Vucevic      0.136335      0.870881  CHI     Nikola Vucevic   \n",
       "353       Jusuf Nurkic      0.121002      0.890980  POR       Jusuf Nurkic   \n",
       "31        Marcus Smart      0.065907      0.900937  BOS       Marcus Smart   \n",
       "319        P.J. Tucker      0.183040      0.912638  PHI        P.J. Tucker   \n",
       "160  Tyrese Haliburton      0.034268      0.957469  IND  Tyrese Haliburton   \n",
       "155       Myles Turner      0.052436      0.959811  IND       Myles Turner   \n",
       "29          Al Horford      0.082431      0.967930  BOS         Al Horford   \n",
       "42       Mason Plumlee      0.056304      1.126215  CHA      Mason Plumlee   \n",
       "\n",
       "     orpm  drpm position    gp   mpg  minutes  \n",
       "172 -1.94  4.56       SF  46.0  28.9   1329.4  \n",
       "404 -1.96  3.95       SF  45.0  35.8   1611.0  \n",
       "57   0.26  3.10        C  49.0  33.9   1661.1  \n",
       "353 -1.21  5.32        C  43.0  27.9   1199.7  \n",
       "31   0.11  1.26       PG  41.0  32.5   1332.5  \n",
       "319 -7.50  3.67       PF  46.0  26.4   1214.4  \n",
       "160  4.46  1.17       PG  40.0  33.4   1336.0  \n",
       "155  0.49  4.55        C  42.0  30.0   1260.0  \n",
       "29  -1.93  4.13        C  40.0  30.9   1236.0  \n",
       "42   0.16  2.72        C  50.0  28.2   1410.0  "
      ]
     },
     "execution_count": 358,
     "metadata": {},
     "output_type": "execute_result"
    }
   ],
   "source": [
    "# Players with highest opposing DRPM\n",
    "orpm_drpm_df.sort_values('avg_opp_drpm').iloc[-10:]"
   ]
  },
  {
   "cell_type": "code",
   "execution_count": 359,
   "id": "6c6b672d",
   "metadata": {},
   "outputs": [
    {
     "data": {
      "text/html": [
       "<div>\n",
       "<style scoped>\n",
       "    .dataframe tbody tr th:only-of-type {\n",
       "        vertical-align: middle;\n",
       "    }\n",
       "\n",
       "    .dataframe tbody tr th {\n",
       "        vertical-align: top;\n",
       "    }\n",
       "\n",
       "    .dataframe thead th {\n",
       "        text-align: right;\n",
       "    }\n",
       "</style>\n",
       "<table border=\"1\" class=\"dataframe\">\n",
       "  <thead>\n",
       "    <tr style=\"text-align: right;\">\n",
       "      <th></th>\n",
       "      <th>player</th>\n",
       "      <th>avg_opp_orpm</th>\n",
       "      <th>avg_opp_drpm</th>\n",
       "      <th>team</th>\n",
       "      <th>name</th>\n",
       "      <th>orpm</th>\n",
       "      <th>drpm</th>\n",
       "      <th>position</th>\n",
       "      <th>gp</th>\n",
       "      <th>mpg</th>\n",
       "      <th>minutes</th>\n",
       "    </tr>\n",
       "  </thead>\n",
       "  <tbody>\n",
       "    <tr>\n",
       "      <th>393</th>\n",
       "      <td>Devin Vassell</td>\n",
       "      <td>0.233812</td>\n",
       "      <td>0.232962</td>\n",
       "      <td>SAS</td>\n",
       "      <td>Devin Vassell</td>\n",
       "      <td>1.39</td>\n",
       "      <td>-1.77</td>\n",
       "      <td>SG</td>\n",
       "      <td>29.0</td>\n",
       "      <td>31.3</td>\n",
       "      <td>907.7</td>\n",
       "    </tr>\n",
       "    <tr>\n",
       "      <th>191</th>\n",
       "      <td>Troy Brown Jr.</td>\n",
       "      <td>0.235101</td>\n",
       "      <td>0.367977</td>\n",
       "      <td>LAL</td>\n",
       "      <td>Troy Brown Jr.</td>\n",
       "      <td>-2.39</td>\n",
       "      <td>1.20</td>\n",
       "      <td>SF</td>\n",
       "      <td>44.0</td>\n",
       "      <td>23.8</td>\n",
       "      <td>1047.2</td>\n",
       "    </tr>\n",
       "    <tr>\n",
       "      <th>379</th>\n",
       "      <td>Jeremy Sochan</td>\n",
       "      <td>0.245049</td>\n",
       "      <td>0.599335</td>\n",
       "      <td>SAS</td>\n",
       "      <td>Jeremy Sochan</td>\n",
       "      <td>-2.36</td>\n",
       "      <td>1.24</td>\n",
       "      <td>F</td>\n",
       "      <td>43.0</td>\n",
       "      <td>26.2</td>\n",
       "      <td>1126.6</td>\n",
       "    </tr>\n",
       "    <tr>\n",
       "      <th>309</th>\n",
       "      <td>Wendell Carter Jr.</td>\n",
       "      <td>0.253807</td>\n",
       "      <td>0.625463</td>\n",
       "      <td>ORL</td>\n",
       "      <td>Wendell Carter Jr.</td>\n",
       "      <td>0.47</td>\n",
       "      <td>0.75</td>\n",
       "      <td>C</td>\n",
       "      <td>31.0</td>\n",
       "      <td>30.3</td>\n",
       "      <td>939.3</td>\n",
       "    </tr>\n",
       "    <tr>\n",
       "      <th>121</th>\n",
       "      <td>Cade Cunningham</td>\n",
       "      <td>0.259053</td>\n",
       "      <td>0.456098</td>\n",
       "      <td>DET</td>\n",
       "      <td>Cade Cunningham</td>\n",
       "      <td>0.91</td>\n",
       "      <td>-1.88</td>\n",
       "      <td>PG</td>\n",
       "      <td>12.0</td>\n",
       "      <td>33.3</td>\n",
       "      <td>399.6</td>\n",
       "    </tr>\n",
       "    <tr>\n",
       "      <th>192</th>\n",
       "      <td>Lonnie Walker IV</td>\n",
       "      <td>0.259545</td>\n",
       "      <td>0.675052</td>\n",
       "      <td>LAL</td>\n",
       "      <td>Lonnie Walker IV</td>\n",
       "      <td>-0.38</td>\n",
       "      <td>-0.82</td>\n",
       "      <td>G</td>\n",
       "      <td>33.0</td>\n",
       "      <td>29.4</td>\n",
       "      <td>970.2</td>\n",
       "    </tr>\n",
       "    <tr>\n",
       "      <th>306</th>\n",
       "      <td>Markelle Fultz</td>\n",
       "      <td>0.265797</td>\n",
       "      <td>0.840594</td>\n",
       "      <td>ORL</td>\n",
       "      <td>Markelle Fultz</td>\n",
       "      <td>-1.24</td>\n",
       "      <td>0.12</td>\n",
       "      <td>PG</td>\n",
       "      <td>29.0</td>\n",
       "      <td>27.9</td>\n",
       "      <td>809.1</td>\n",
       "    </tr>\n",
       "    <tr>\n",
       "      <th>184</th>\n",
       "      <td>Russell Westbrook</td>\n",
       "      <td>0.304769</td>\n",
       "      <td>0.202851</td>\n",
       "      <td>LAL</td>\n",
       "      <td>Russell Westbrook</td>\n",
       "      <td>2.74</td>\n",
       "      <td>-5.42</td>\n",
       "      <td>PG</td>\n",
       "      <td>47.0</td>\n",
       "      <td>28.6</td>\n",
       "      <td>1344.2</td>\n",
       "    </tr>\n",
       "    <tr>\n",
       "      <th>186</th>\n",
       "      <td>Anthony Davis</td>\n",
       "      <td>0.324831</td>\n",
       "      <td>0.599213</td>\n",
       "      <td>LAL</td>\n",
       "      <td>Anthony Davis</td>\n",
       "      <td>2.81</td>\n",
       "      <td>2.18</td>\n",
       "      <td>PF</td>\n",
       "      <td>27.0</td>\n",
       "      <td>33.2</td>\n",
       "      <td>896.4</td>\n",
       "    </tr>\n",
       "    <tr>\n",
       "      <th>183</th>\n",
       "      <td>LeBron James</td>\n",
       "      <td>0.327397</td>\n",
       "      <td>0.722197</td>\n",
       "      <td>LAL</td>\n",
       "      <td>LeBron James</td>\n",
       "      <td>5.00</td>\n",
       "      <td>2.73</td>\n",
       "      <td>SF</td>\n",
       "      <td>40.0</td>\n",
       "      <td>36.3</td>\n",
       "      <td>1452.0</td>\n",
       "    </tr>\n",
       "  </tbody>\n",
       "</table>\n",
       "</div>"
      ],
      "text/plain": [
       "                 player  avg_opp_orpm  avg_opp_drpm team                name  \\\n",
       "393       Devin Vassell      0.233812      0.232962  SAS       Devin Vassell   \n",
       "191      Troy Brown Jr.      0.235101      0.367977  LAL      Troy Brown Jr.   \n",
       "379       Jeremy Sochan      0.245049      0.599335  SAS       Jeremy Sochan   \n",
       "309  Wendell Carter Jr.      0.253807      0.625463  ORL  Wendell Carter Jr.   \n",
       "121     Cade Cunningham      0.259053      0.456098  DET     Cade Cunningham   \n",
       "192    Lonnie Walker IV      0.259545      0.675052  LAL    Lonnie Walker IV   \n",
       "306      Markelle Fultz      0.265797      0.840594  ORL      Markelle Fultz   \n",
       "184   Russell Westbrook      0.304769      0.202851  LAL   Russell Westbrook   \n",
       "186       Anthony Davis      0.324831      0.599213  LAL       Anthony Davis   \n",
       "183        LeBron James      0.327397      0.722197  LAL        LeBron James   \n",
       "\n",
       "     orpm  drpm position    gp   mpg  minutes  \n",
       "393  1.39 -1.77       SG  29.0  31.3    907.7  \n",
       "191 -2.39  1.20       SF  44.0  23.8   1047.2  \n",
       "379 -2.36  1.24        F  43.0  26.2   1126.6  \n",
       "309  0.47  0.75        C  31.0  30.3    939.3  \n",
       "121  0.91 -1.88       PG  12.0  33.3    399.6  \n",
       "192 -0.38 -0.82        G  33.0  29.4    970.2  \n",
       "306 -1.24  0.12       PG  29.0  27.9    809.1  \n",
       "184  2.74 -5.42       PG  47.0  28.6   1344.2  \n",
       "186  2.81  2.18       PF  27.0  33.2    896.4  \n",
       "183  5.00  2.73       SF  40.0  36.3   1452.0  "
      ]
     },
     "execution_count": 359,
     "metadata": {},
     "output_type": "execute_result"
    }
   ],
   "source": [
    "# Players with highest opposing ORPM\n",
    "orpm_drpm_df.sort_values('avg_opp_orpm').iloc[-10:]"
   ]
  },
  {
   "cell_type": "code",
   "execution_count": 367,
   "id": "f2e5f283",
   "metadata": {},
   "outputs": [
    {
     "data": {
      "text/html": [
       "<div>\n",
       "<style scoped>\n",
       "    .dataframe tbody tr th:only-of-type {\n",
       "        vertical-align: middle;\n",
       "    }\n",
       "\n",
       "    .dataframe tbody tr th {\n",
       "        vertical-align: top;\n",
       "    }\n",
       "\n",
       "    .dataframe thead th {\n",
       "        text-align: right;\n",
       "    }\n",
       "</style>\n",
       "<table border=\"1\" class=\"dataframe\">\n",
       "  <thead>\n",
       "    <tr style=\"text-align: right;\">\n",
       "      <th></th>\n",
       "      <th>player</th>\n",
       "      <th>avg_opp_orpm</th>\n",
       "      <th>avg_opp_drpm</th>\n",
       "      <th>team</th>\n",
       "      <th>name</th>\n",
       "      <th>orpm</th>\n",
       "      <th>drpm</th>\n",
       "      <th>position</th>\n",
       "      <th>gp</th>\n",
       "      <th>mpg</th>\n",
       "      <th>minutes</th>\n",
       "    </tr>\n",
       "  </thead>\n",
       "  <tbody>\n",
       "    <tr>\n",
       "      <th>273</th>\n",
       "      <td>Dyson Daniels</td>\n",
       "      <td>-0.026917</td>\n",
       "      <td>0.111501</td>\n",
       "      <td>NOP</td>\n",
       "      <td>Dyson Daniels</td>\n",
       "      <td>-2.65</td>\n",
       "      <td>-0.25</td>\n",
       "      <td>G</td>\n",
       "      <td>39.0</td>\n",
       "      <td>19.9</td>\n",
       "      <td>776.1</td>\n",
       "    </tr>\n",
       "    <tr>\n",
       "      <th>264</th>\n",
       "      <td>Brandon Ingram</td>\n",
       "      <td>-0.019441</td>\n",
       "      <td>0.445226</td>\n",
       "      <td>NOP</td>\n",
       "      <td>Brandon Ingram</td>\n",
       "      <td>0.56</td>\n",
       "      <td>-0.82</td>\n",
       "      <td>SF</td>\n",
       "      <td>17.0</td>\n",
       "      <td>31.5</td>\n",
       "      <td>535.5</td>\n",
       "    </tr>\n",
       "    <tr>\n",
       "      <th>260</th>\n",
       "      <td>Jonas Valanciunas</td>\n",
       "      <td>0.005226</td>\n",
       "      <td>0.828483</td>\n",
       "      <td>NOP</td>\n",
       "      <td>Jonas Valanciunas</td>\n",
       "      <td>-0.79</td>\n",
       "      <td>3.29</td>\n",
       "      <td>C</td>\n",
       "      <td>50.0</td>\n",
       "      <td>24.8</td>\n",
       "      <td>1240.0</td>\n",
       "    </tr>\n",
       "    <tr>\n",
       "      <th>266</th>\n",
       "      <td>Zion Williamson</td>\n",
       "      <td>0.011757</td>\n",
       "      <td>0.421738</td>\n",
       "      <td>NOP</td>\n",
       "      <td>Zion Williamson</td>\n",
       "      <td>2.47</td>\n",
       "      <td>0.02</td>\n",
       "      <td>PF</td>\n",
       "      <td>29.0</td>\n",
       "      <td>33.0</td>\n",
       "      <td>957.0</td>\n",
       "    </tr>\n",
       "    <tr>\n",
       "      <th>272</th>\n",
       "      <td>Jose Alvarado</td>\n",
       "      <td>0.027814</td>\n",
       "      <td>0.051028</td>\n",
       "      <td>NOP</td>\n",
       "      <td>Jose Alvarado</td>\n",
       "      <td>0.64</td>\n",
       "      <td>-1.55</td>\n",
       "      <td>PG</td>\n",
       "      <td>49.0</td>\n",
       "      <td>22.0</td>\n",
       "      <td>1078.0</td>\n",
       "    </tr>\n",
       "    <tr>\n",
       "      <th>271</th>\n",
       "      <td>Trey Murphy III</td>\n",
       "      <td>0.033522</td>\n",
       "      <td>0.570896</td>\n",
       "      <td>NOP</td>\n",
       "      <td>Trey Murphy III</td>\n",
       "      <td>0.11</td>\n",
       "      <td>0.76</td>\n",
       "      <td>SG</td>\n",
       "      <td>47.0</td>\n",
       "      <td>29.0</td>\n",
       "      <td>1363.0</td>\n",
       "    </tr>\n",
       "    <tr>\n",
       "      <th>261</th>\n",
       "      <td>CJ McCollum</td>\n",
       "      <td>0.035161</td>\n",
       "      <td>0.694681</td>\n",
       "      <td>NOP</td>\n",
       "      <td>CJ McCollum</td>\n",
       "      <td>1.36</td>\n",
       "      <td>1.44</td>\n",
       "      <td>SG</td>\n",
       "      <td>45.0</td>\n",
       "      <td>35.2</td>\n",
       "      <td>1584.0</td>\n",
       "    </tr>\n",
       "    <tr>\n",
       "      <th>262</th>\n",
       "      <td>Willy Hernangomez</td>\n",
       "      <td>0.039004</td>\n",
       "      <td>-0.280454</td>\n",
       "      <td>NOP</td>\n",
       "      <td>Willy Hernangomez</td>\n",
       "      <td>0.59</td>\n",
       "      <td>-1.90</td>\n",
       "      <td>C</td>\n",
       "      <td>25.0</td>\n",
       "      <td>12.7</td>\n",
       "      <td>317.5</td>\n",
       "    </tr>\n",
       "    <tr>\n",
       "      <th>265</th>\n",
       "      <td>Devonte' Graham</td>\n",
       "      <td>0.064605</td>\n",
       "      <td>-0.318731</td>\n",
       "      <td>NOP</td>\n",
       "      <td>Devonte' Graham</td>\n",
       "      <td>0.67</td>\n",
       "      <td>-2.72</td>\n",
       "      <td>PG</td>\n",
       "      <td>50.0</td>\n",
       "      <td>15.3</td>\n",
       "      <td>765.0</td>\n",
       "    </tr>\n",
       "    <tr>\n",
       "      <th>269</th>\n",
       "      <td>Naji Marshall</td>\n",
       "      <td>0.073726</td>\n",
       "      <td>0.202381</td>\n",
       "      <td>NOP</td>\n",
       "      <td>Naji Marshall</td>\n",
       "      <td>-0.68</td>\n",
       "      <td>-0.73</td>\n",
       "      <td>SF</td>\n",
       "      <td>45.0</td>\n",
       "      <td>25.0</td>\n",
       "      <td>1125.0</td>\n",
       "    </tr>\n",
       "    <tr>\n",
       "      <th>263</th>\n",
       "      <td>Larry Nance Jr.</td>\n",
       "      <td>0.074414</td>\n",
       "      <td>-0.187078</td>\n",
       "      <td>NOP</td>\n",
       "      <td>Larry Nance Jr.</td>\n",
       "      <td>-0.37</td>\n",
       "      <td>-0.69</td>\n",
       "      <td>PF</td>\n",
       "      <td>40.0</td>\n",
       "      <td>22.6</td>\n",
       "      <td>904.0</td>\n",
       "    </tr>\n",
       "    <tr>\n",
       "      <th>267</th>\n",
       "      <td>Jaxson Hayes</td>\n",
       "      <td>0.087461</td>\n",
       "      <td>-0.071138</td>\n",
       "      <td>NOP</td>\n",
       "      <td>Jaxson Hayes</td>\n",
       "      <td>-0.17</td>\n",
       "      <td>-2.12</td>\n",
       "      <td>C</td>\n",
       "      <td>28.0</td>\n",
       "      <td>13.9</td>\n",
       "      <td>389.2</td>\n",
       "    </tr>\n",
       "    <tr>\n",
       "      <th>270</th>\n",
       "      <td>Herbert Jones</td>\n",
       "      <td>0.106306</td>\n",
       "      <td>0.756792</td>\n",
       "      <td>NOP</td>\n",
       "      <td>Herbert Jones</td>\n",
       "      <td>-1.85</td>\n",
       "      <td>1.70</td>\n",
       "      <td>SF</td>\n",
       "      <td>34.0</td>\n",
       "      <td>27.7</td>\n",
       "      <td>941.8</td>\n",
       "    </tr>\n",
       "  </tbody>\n",
       "</table>\n",
       "</div>"
      ],
      "text/plain": [
       "                player  avg_opp_orpm  avg_opp_drpm team               name  \\\n",
       "273      Dyson Daniels     -0.026917      0.111501  NOP      Dyson Daniels   \n",
       "264     Brandon Ingram     -0.019441      0.445226  NOP     Brandon Ingram   \n",
       "260  Jonas Valanciunas      0.005226      0.828483  NOP  Jonas Valanciunas   \n",
       "266    Zion Williamson      0.011757      0.421738  NOP    Zion Williamson   \n",
       "272      Jose Alvarado      0.027814      0.051028  NOP      Jose Alvarado   \n",
       "271    Trey Murphy III      0.033522      0.570896  NOP    Trey Murphy III   \n",
       "261        CJ McCollum      0.035161      0.694681  NOP        CJ McCollum   \n",
       "262  Willy Hernangomez      0.039004     -0.280454  NOP  Willy Hernangomez   \n",
       "265    Devonte' Graham      0.064605     -0.318731  NOP    Devonte' Graham   \n",
       "269      Naji Marshall      0.073726      0.202381  NOP      Naji Marshall   \n",
       "263    Larry Nance Jr.      0.074414     -0.187078  NOP    Larry Nance Jr.   \n",
       "267       Jaxson Hayes      0.087461     -0.071138  NOP       Jaxson Hayes   \n",
       "270      Herbert Jones      0.106306      0.756792  NOP      Herbert Jones   \n",
       "\n",
       "     orpm  drpm position    gp   mpg  minutes  \n",
       "273 -2.65 -0.25        G  39.0  19.9    776.1  \n",
       "264  0.56 -0.82       SF  17.0  31.5    535.5  \n",
       "260 -0.79  3.29        C  50.0  24.8   1240.0  \n",
       "266  2.47  0.02       PF  29.0  33.0    957.0  \n",
       "272  0.64 -1.55       PG  49.0  22.0   1078.0  \n",
       "271  0.11  0.76       SG  47.0  29.0   1363.0  \n",
       "261  1.36  1.44       SG  45.0  35.2   1584.0  \n",
       "262  0.59 -1.90        C  25.0  12.7    317.5  \n",
       "265  0.67 -2.72       PG  50.0  15.3    765.0  \n",
       "269 -0.68 -0.73       SF  45.0  25.0   1125.0  \n",
       "263 -0.37 -0.69       PF  40.0  22.6    904.0  \n",
       "267 -0.17 -2.12        C  28.0  13.9    389.2  \n",
       "270 -1.85  1.70       SF  34.0  27.7    941.8  "
      ]
     },
     "execution_count": 367,
     "metadata": {},
     "output_type": "execute_result"
    }
   ],
   "source": [
    "# Players on the Pelicans\n",
    "# Bench players face worse opposing players, sensibly\n",
    "orpm_drpm_df[orpm_drpm_df.team == 'NOP'].sort_values('avg_opp_orpm')"
   ]
  },
  {
   "cell_type": "code",
   "execution_count": 422,
   "id": "7e3a426a",
   "metadata": {},
   "outputs": [
    {
     "data": {
      "text/html": [
       "<div>\n",
       "<style scoped>\n",
       "    .dataframe tbody tr th:only-of-type {\n",
       "        vertical-align: middle;\n",
       "    }\n",
       "\n",
       "    .dataframe tbody tr th {\n",
       "        vertical-align: top;\n",
       "    }\n",
       "\n",
       "    .dataframe thead th {\n",
       "        text-align: right;\n",
       "    }\n",
       "</style>\n",
       "<table border=\"1\" class=\"dataframe\">\n",
       "  <thead>\n",
       "    <tr style=\"text-align: right;\">\n",
       "      <th></th>\n",
       "      <th>player</th>\n",
       "      <th>avg_opp_orpm</th>\n",
       "      <th>avg_opp_drpm</th>\n",
       "      <th>team</th>\n",
       "      <th>name</th>\n",
       "      <th>orpm</th>\n",
       "      <th>drpm</th>\n",
       "      <th>position</th>\n",
       "      <th>gp</th>\n",
       "      <th>mpg</th>\n",
       "      <th>minutes</th>\n",
       "    </tr>\n",
       "  </thead>\n",
       "  <tbody>\n",
       "    <tr>\n",
       "      <th>242</th>\n",
       "      <td>MarJon Beauchamp</td>\n",
       "      <td>-0.161980</td>\n",
       "      <td>0.041350</td>\n",
       "      <td>MIL</td>\n",
       "      <td>MarJon Beauchamp</td>\n",
       "      <td>-0.56</td>\n",
       "      <td>-2.09</td>\n",
       "      <td>G</td>\n",
       "      <td>33.0</td>\n",
       "      <td>15.3</td>\n",
       "      <td>504.9</td>\n",
       "    </tr>\n",
       "    <tr>\n",
       "      <th>232</th>\n",
       "      <td>George Hill</td>\n",
       "      <td>-0.034697</td>\n",
       "      <td>-0.176034</td>\n",
       "      <td>MIL</td>\n",
       "      <td>George Hill</td>\n",
       "      <td>0.06</td>\n",
       "      <td>-2.58</td>\n",
       "      <td>PG</td>\n",
       "      <td>34.0</td>\n",
       "      <td>19.6</td>\n",
       "      <td>666.4</td>\n",
       "    </tr>\n",
       "    <tr>\n",
       "      <th>236</th>\n",
       "      <td>Joe Ingles</td>\n",
       "      <td>-0.011341</td>\n",
       "      <td>0.061263</td>\n",
       "      <td>MIL</td>\n",
       "      <td>Joe Ingles</td>\n",
       "      <td>0.77</td>\n",
       "      <td>-4.53</td>\n",
       "      <td>SG</td>\n",
       "      <td>17.0</td>\n",
       "      <td>21.8</td>\n",
       "      <td>370.6</td>\n",
       "    </tr>\n",
       "    <tr>\n",
       "      <th>239</th>\n",
       "      <td>Grayson Allen</td>\n",
       "      <td>-0.007438</td>\n",
       "      <td>0.773332</td>\n",
       "      <td>MIL</td>\n",
       "      <td>Grayson Allen</td>\n",
       "      <td>-0.88</td>\n",
       "      <td>2.86</td>\n",
       "      <td>SG</td>\n",
       "      <td>45.0</td>\n",
       "      <td>27.4</td>\n",
       "      <td>1233.0</td>\n",
       "    </tr>\n",
       "    <tr>\n",
       "      <th>233</th>\n",
       "      <td>Jrue Holiday</td>\n",
       "      <td>-0.005062</td>\n",
       "      <td>0.647292</td>\n",
       "      <td>MIL</td>\n",
       "      <td>Jrue Holiday</td>\n",
       "      <td>2.59</td>\n",
       "      <td>-0.33</td>\n",
       "      <td>PG</td>\n",
       "      <td>38.0</td>\n",
       "      <td>32.8</td>\n",
       "      <td>1246.4</td>\n",
       "    </tr>\n",
       "    <tr>\n",
       "      <th>238</th>\n",
       "      <td>Pat Connaughton</td>\n",
       "      <td>-0.000663</td>\n",
       "      <td>0.431850</td>\n",
       "      <td>MIL</td>\n",
       "      <td>Pat Connaughton</td>\n",
       "      <td>-0.19</td>\n",
       "      <td>-0.78</td>\n",
       "      <td>SG</td>\n",
       "      <td>33.0</td>\n",
       "      <td>24.7</td>\n",
       "      <td>815.1</td>\n",
       "    </tr>\n",
       "    <tr>\n",
       "      <th>240</th>\n",
       "      <td>Jevon Carter</td>\n",
       "      <td>0.007154</td>\n",
       "      <td>0.463896</td>\n",
       "      <td>MIL</td>\n",
       "      <td>Jevon Carter</td>\n",
       "      <td>-2.21</td>\n",
       "      <td>-0.08</td>\n",
       "      <td>PG</td>\n",
       "      <td>49.0</td>\n",
       "      <td>23.4</td>\n",
       "      <td>1146.6</td>\n",
       "    </tr>\n",
       "    <tr>\n",
       "      <th>230</th>\n",
       "      <td>Brook Lopez</td>\n",
       "      <td>0.013913</td>\n",
       "      <td>0.650006</td>\n",
       "      <td>MIL</td>\n",
       "      <td>Brook Lopez</td>\n",
       "      <td>-0.27</td>\n",
       "      <td>4.31</td>\n",
       "      <td>C</td>\n",
       "      <td>48.0</td>\n",
       "      <td>30.4</td>\n",
       "      <td>1459.2</td>\n",
       "    </tr>\n",
       "    <tr>\n",
       "      <th>235</th>\n",
       "      <td>Giannis Antetokounmpo</td>\n",
       "      <td>0.018927</td>\n",
       "      <td>0.682890</td>\n",
       "      <td>MIL</td>\n",
       "      <td>Giannis Antetokounmpo</td>\n",
       "      <td>5.20</td>\n",
       "      <td>0.13</td>\n",
       "      <td>PF</td>\n",
       "      <td>38.0</td>\n",
       "      <td>33.4</td>\n",
       "      <td>1269.2</td>\n",
       "    </tr>\n",
       "    <tr>\n",
       "      <th>237</th>\n",
       "      <td>Bobby Portis</td>\n",
       "      <td>0.025039</td>\n",
       "      <td>0.288408</td>\n",
       "      <td>MIL</td>\n",
       "      <td>Bobby Portis</td>\n",
       "      <td>1.21</td>\n",
       "      <td>-2.02</td>\n",
       "      <td>F</td>\n",
       "      <td>47.0</td>\n",
       "      <td>26.8</td>\n",
       "      <td>1259.6</td>\n",
       "    </tr>\n",
       "  </tbody>\n",
       "</table>\n",
       "</div>"
      ],
      "text/plain": [
       "                    player  avg_opp_orpm  avg_opp_drpm team  \\\n",
       "242       MarJon Beauchamp     -0.161980      0.041350  MIL   \n",
       "232            George Hill     -0.034697     -0.176034  MIL   \n",
       "236             Joe Ingles     -0.011341      0.061263  MIL   \n",
       "239          Grayson Allen     -0.007438      0.773332  MIL   \n",
       "233           Jrue Holiday     -0.005062      0.647292  MIL   \n",
       "238        Pat Connaughton     -0.000663      0.431850  MIL   \n",
       "240           Jevon Carter      0.007154      0.463896  MIL   \n",
       "230            Brook Lopez      0.013913      0.650006  MIL   \n",
       "235  Giannis Antetokounmpo      0.018927      0.682890  MIL   \n",
       "237           Bobby Portis      0.025039      0.288408  MIL   \n",
       "\n",
       "                      name  orpm  drpm position    gp   mpg  minutes  \n",
       "242       MarJon Beauchamp -0.56 -2.09        G  33.0  15.3    504.9  \n",
       "232            George Hill  0.06 -2.58       PG  34.0  19.6    666.4  \n",
       "236             Joe Ingles  0.77 -4.53       SG  17.0  21.8    370.6  \n",
       "239          Grayson Allen -0.88  2.86       SG  45.0  27.4   1233.0  \n",
       "233           Jrue Holiday  2.59 -0.33       PG  38.0  32.8   1246.4  \n",
       "238        Pat Connaughton -0.19 -0.78       SG  33.0  24.7    815.1  \n",
       "240           Jevon Carter -2.21 -0.08       PG  49.0  23.4   1146.6  \n",
       "230            Brook Lopez -0.27  4.31        C  48.0  30.4   1459.2  \n",
       "235  Giannis Antetokounmpo  5.20  0.13       PF  38.0  33.4   1269.2  \n",
       "237           Bobby Portis  1.21 -2.02        F  47.0  26.8   1259.6  "
      ]
     },
     "execution_count": 422,
     "metadata": {},
     "output_type": "execute_result"
    }
   ],
   "source": [
    "orpm_drpm_df[orpm_drpm_df.team == 'MIL'].sort_values('avg_opp_orpm')"
   ]
  },
  {
   "cell_type": "code",
   "execution_count": 434,
   "id": "0b8a87a2",
   "metadata": {},
   "outputs": [
    {
     "data": {
      "text/plain": [
       "<AxesSubplot:xlabel='position'>"
      ]
     },
     "execution_count": 434,
     "metadata": {},
     "output_type": "execute_result"
    },
    {
     "data": {
      "image/png": "[encoded data removed]",
      "text/plain": [
       "<Figure size 432x288 with 1 Axes>"
      ]
     },
     "metadata": {
      "needs_background": "light"
     },
     "output_type": "display_data"
    }
   ],
   "source": [
    "orpm_drpm_df[~orpm_drpm_df.position.isin(['G', 'F'])].groupby('position').avg_opp_orpm.mean().sort_values().plot.bar()"
   ]
  },
  {
   "cell_type": "code",
   "execution_count": 433,
   "id": "bec6c804",
   "metadata": {},
   "outputs": [
    {
     "data": {
      "text/plain": [
       "<AxesSubplot:xlabel='position'>"
      ]
     },
     "execution_count": 433,
     "metadata": {},
     "output_type": "execute_result"
    },
    {
     "data": {
      "image/png": "[encoded data removed]",
      "text/plain": [
       "<Figure size 432x288 with 1 Axes>"
      ]
     },
     "metadata": {
      "needs_background": "light"
     },
     "output_type": "display_data"
    }
   ],
   "source": [
    "orpm_drpm_df[~orpm_drpm_df.position.isin(['G', 'F'])].groupby('position').orpm.mean().sort_values().plot.bar()"
   ]
  },
  {
   "cell_type": "code",
   "execution_count": 432,
   "id": "3be0127c",
   "metadata": {},
   "outputs": [
    {
     "data": {
      "text/plain": [
       "<AxesSubplot:xlabel='position'>"
      ]
     },
     "execution_count": 432,
     "metadata": {},
     "output_type": "execute_result"
    },
    {
     "data": {
      "image/png": "[encoded data removed]",
      "text/plain": [
       "<Figure size 432x288 with 1 Axes>"
      ]
     },
     "metadata": {
      "needs_background": "light"
     },
     "output_type": "display_data"
    }
   ],
   "source": [
    "orpm_drpm_df[~orpm_drpm_df.position.isin(['G', 'F'])].groupby('position').avg_opp_drpm.mean().sort_values().plot.bar()"
   ]
  },
  {
   "cell_type": "code",
   "execution_count": 431,
   "id": "5b3576f9",
   "metadata": {},
   "outputs": [
    {
     "data": {
      "text/plain": [
       "<AxesSubplot:xlabel='position'>"
      ]
     },
     "execution_count": 431,
     "metadata": {},
     "output_type": "execute_result"
    },
    {
     "data": {
      "image/png": "[encoded data removed]",
      "text/plain": [
       "<Figure size 432x288 with 1 Axes>"
      ]
     },
     "metadata": {
      "needs_background": "light"
     },
     "output_type": "display_data"
    }
   ],
   "source": [
    "orpm_drpm_df[~orpm_drpm_df.position.isin(['G', 'F'])].groupby('position').drpm.mean().sort_values().plot.bar()"
   ]
  },
  {
   "cell_type": "code",
   "execution_count": 427,
   "id": "8572704e",
   "metadata": {},
   "outputs": [
    {
     "name": "stdout",
     "output_type": "stream",
     "text": [
      "0.7044293992139203\n"
     ]
    },
    {
     "data": {
      "image/png": "[encoded data removed]",
      "text/plain": [
       "<Figure size 432x288 with 1 Axes>"
      ]
     },
     "metadata": {
      "needs_background": "light"
     },
     "output_type": "display_data"
    }
   ],
   "source": [
    "x, y = 'minutes', 'avg_opp_drpm'\n",
    "print(orpm_drpm_df[[x, y]].corr().loc[x, y])\n",
    "ax = orpm_drpm_df.plot.scatter(x, y)\n",
    "\n",
    "# for _, row in orpm_drpm_df.iterrows():\n",
    "#     ax.annotate(row['player'], (row[x], row[y]))"
   ]
  },
  {
   "cell_type": "code",
   "execution_count": 426,
   "id": "6c99070b",
   "metadata": {},
   "outputs": [
    {
     "name": "stdout",
     "output_type": "stream",
     "text": [
      "0.645339014755161\n"
     ]
    },
    {
     "data": {
      "image/png": "[encoded data removed]",
      "text/plain": [
       "<Figure size 432x288 with 1 Axes>"
      ]
     },
     "metadata": {
      "needs_background": "light"
     },
     "output_type": "display_data"
    }
   ],
   "source": [
    "x, y = 'minutes', 'drpm'\n",
    "print(orpm_drpm_df[[x, y]].corr().loc[x, y])\n",
    "ax = orpm_drpm_df.plot.scatter(x, y)"
   ]
  },
  {
   "cell_type": "code",
   "execution_count": 429,
   "id": "c6175c5a",
   "metadata": {},
   "outputs": [
    {
     "name": "stdout",
     "output_type": "stream",
     "text": [
      "0.20156319715893073\n"
     ]
    },
    {
     "data": {
      "image/png": "[encoded data removed]",
      "text/plain": [
       "<Figure size 432x288 with 1 Axes>"
      ]
     },
     "metadata": {
      "needs_background": "light"
     },
     "output_type": "display_data"
    }
   ],
   "source": [
    "x, y = 'minutes', 'avg_opp_orpm'\n",
    "print(orpm_drpm_df[[x, y]].corr().loc[x, y])\n",
    "ax = orpm_drpm_df.plot.scatter(x, y)"
   ]
  },
  {
   "cell_type": "code",
   "execution_count": 428,
   "id": "de284fee",
   "metadata": {},
   "outputs": [
    {
     "name": "stdout",
     "output_type": "stream",
     "text": [
      "0.14400498140708118\n"
     ]
    },
    {
     "data": {
      "image/png": "[encoded data removed]",
      "text/plain": [
       "<Figure size 432x288 with 1 Axes>"
      ]
     },
     "metadata": {
      "needs_background": "light"
     },
     "output_type": "display_data"
    }
   ],
   "source": [
    "x, y = 'minutes', 'orpm'\n",
    "print(orpm_drpm_df[[x, y]].corr().loc[x, y])\n",
    "ax = orpm_drpm_df.plot.scatter(x, y)"
   ]
  },
  {
   "cell_type": "code",
   "execution_count": 408,
   "id": "fd11d558",
   "metadata": {},
   "outputs": [
    {
     "name": "stdout",
     "output_type": "stream",
     "text": [
      "                  orpm  avg_opp_drpm\n",
      "orpm          1.000000      0.025796\n",
      "avg_opp_drpm  0.025796      1.000000\n"
     ]
    },
    {
     "data": {
      "image/png": "[encoded data removed]",
      "text/plain": [
       "<Figure size 432x288 with 1 Axes>"
      ]
     },
     "metadata": {
      "needs_background": "light"
     },
     "output_type": "display_data"
    }
   ],
   "source": [
    "x, y = 'orpm', 'avg_opp_drpm'\n",
    "print(orpm_drpm_df[[x, y]].corr())\n",
    "ax = orpm_drpm_df.plot.scatter(x, y)"
   ]
  },
  {
   "cell_type": "code",
   "execution_count": 409,
   "id": "ba57b15a",
   "metadata": {},
   "outputs": [
    {
     "name": "stdout",
     "output_type": "stream",
     "text": [
      "                  orpm  avg_opp_orpm\n",
      "orpm          1.000000      0.075273\n",
      "avg_opp_orpm  0.075273      1.000000\n"
     ]
    },
    {
     "data": {
      "image/png": "[encoded data removed]",
      "text/plain": [
       "<Figure size 432x288 with 1 Axes>"
      ]
     },
     "metadata": {
      "needs_background": "light"
     },
     "output_type": "display_data"
    }
   ],
   "source": [
    "x, y = 'orpm', 'avg_opp_orpm'\n",
    "print(orpm_drpm_df[[x, y]].corr())\n",
    "ax = orpm_drpm_df.plot.scatter(x, y)"
   ]
  },
  {
   "cell_type": "code",
   "execution_count": 410,
   "id": "294a9bb9",
   "metadata": {},
   "outputs": [
    {
     "name": "stdout",
     "output_type": "stream",
     "text": [
      "                  drpm  avg_opp_drpm\n",
      "drpm          1.000000      0.738711\n",
      "avg_opp_drpm  0.738711      1.000000\n"
     ]
    },
    {
     "data": {
      "image/png": "[encoded data removed]",
      "text/plain": [
       "<Figure size 432x288 with 1 Axes>"
      ]
     },
     "metadata": {
      "needs_background": "light"
     },
     "output_type": "display_data"
    }
   ],
   "source": [
    "x, y = 'drpm', 'avg_opp_drpm'\n",
    "print(orpm_drpm_df[[x, y]].corr())\n",
    "ax = orpm_drpm_df.plot.scatter(x, y)"
   ]
  },
  {
   "cell_type": "code",
   "execution_count": 411,
   "id": "f731a654",
   "metadata": {},
   "outputs": [
    {
     "name": "stdout",
     "output_type": "stream",
     "text": [
      "                  drpm  avg_opp_orpm\n",
      "drpm          1.000000      0.096045\n",
      "avg_opp_orpm  0.096045      1.000000\n"
     ]
    },
    {
     "data": {
      "image/png": "[encoded data removed]",
      "text/plain": [
       "<Figure size 432x288 with 1 Axes>"
      ]
     },
     "metadata": {
      "needs_background": "light"
     },
     "output_type": "display_data"
    }
   ],
   "source": [
    "x, y = 'drpm', 'avg_opp_orpm'\n",
    "print(orpm_drpm_df[[x, y]].corr())\n",
    "ax = orpm_drpm_df.plot.scatter(x, y)"
   ]
  },
  {
   "cell_type": "code",
   "execution_count": null,
   "id": "e42b3550",
   "metadata": {},
   "outputs": [],
   "source": []
  }
 ],
 "metadata": {
  "kernelspec": {
   "display_name": "Python 3 (ipykernel)",
   "language": "python",
   "name": "python3"
  },
  "language_info": {
   "codemirror_mode": {
    "name": "ipython",
    "version": 3
   },
   "file_extension": ".py",
   "mimetype": "text/x-python",
   "name": "python",
   "nbconvert_exporter": "python",
   "pygments_lexer": "ipython3",
   "version": "3.9.9"
  }
 },
 "nbformat": 4,
 "nbformat_minor": 5
}
